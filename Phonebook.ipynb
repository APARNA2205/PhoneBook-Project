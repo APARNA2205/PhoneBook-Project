{
  "nbformat": 4,
  "nbformat_minor": 0,
  "metadata": {
    "colab": {
      "provenance": [],
      "authorship_tag": "ABX9TyPJYmLchk5rY2b2OhKZWrql",
      "include_colab_link": true
    },
    "kernelspec": {
      "name": "python3",
      "display_name": "Python 3"
    },
    "language_info": {
      "name": "python"
    }
  },
  "cells": [
    {
      "cell_type": "markdown",
      "metadata": {
        "id": "view-in-github",
        "colab_type": "text"
      },
      "source": [
        "<a href=\"https://colab.research.google.com/github/APARNA2205/PhoneBook-Project/blob/main/Phonebook.ipynb\" target=\"_parent\"><img src=\"https://colab.research.google.com/assets/colab-badge.svg\" alt=\"Open In Colab\"/></a>"
      ]
    },
    {
      "cell_type": "code",
      "execution_count": null,
      "metadata": {
        "colab": {
          "base_uri": "https://localhost:8080/"
        },
        "id": "Kif4SX7geNHS",
        "outputId": "f911a9e0-2f54-47e2-e65f-2914248c1712"
      },
      "outputs": [
        {
          "metadata": {
            "tags": null
          },
          "name": "stdout",
          "output_type": "stream",
          "text": [
            "1. Print Phone Numbers\n",
            "2. Add a Phone Number\n",
            "3. Remove a Phone Number\n",
            "4. Lookup a Phone Number\n",
            "5. Quit\n",
            "\n",
            "Telephone Numbers:\n",
            "\n",
            "Add Name and Number\n",
            "Telephone Numbers:\n",
            "Name:  appu \tNumber: 9014808054\n",
            "\n",
            "Add Name and Number\n",
            "Add Name and Number\n",
            "Telephone Numbers:\n",
            "Name:  appu \tNumber: 9014808054\n",
            "Name:  ramana \tNumber: 9550002865\n",
            "Name:  venkata \tNumber: 9986289696\n",
            "\n"
          ]
        }
      ],
      "source": [
        "\n",
        "def print_menu():\n",
        "    print('1. Print Phone Numbers')\n",
        "    print('2. Add a Phone Number')\n",
        "    print('3. Remove a Phone Number')\n",
        "    print('4. Lookup a Phone Number')\n",
        "    print('5. Quit')\n",
        "    print()\n",
        "\n",
        "numbers = {}\n",
        "menu_choice = 0\n",
        "print_menu()\n",
        "while menu_choice != 5:\n",
        "    menu_choice = int(input(\"Type in a number (1-5): \"))\n",
        "    if menu_choice == 1:\n",
        "        print(\"Telephone Numbers:\")\n",
        "        for x in numbers.keys():\n",
        "            print(\"Name: \", x, \"\\tNumber:\", numbers[x])\n",
        "        print()\n",
        "    elif menu_choice == 2:\n",
        "        print(\"Add Name and Number\")\n",
        "        name = input(\"Name: \")\n",
        "        phone = input(\"Number: \")\n",
        "        numbers[name] = phone\n",
        "    elif menu_choice == 3:\n",
        "        print(\"Remove Name and Number\")\n",
        "        name = input(\"Name: \")\n",
        "        if name in numbers:\n",
        "            del numbers[name]\n",
        "        else:\n",
        "            print(name, \"was not found\")\n",
        "    elif menu_choice == 4:\n",
        "        print(\"Lookup Number\")\n",
        "        name = input(\"Name: \")\n",
        "        if name in numbers:\n",
        "            print(\"The number is\", numbers[name])\n",
        "        else:\n",
        "            print(name, \"was not found\")\n",
        "    elif menu_choice != 5:\n",
        "        print_menu()"
      ]
    }
  ]
}